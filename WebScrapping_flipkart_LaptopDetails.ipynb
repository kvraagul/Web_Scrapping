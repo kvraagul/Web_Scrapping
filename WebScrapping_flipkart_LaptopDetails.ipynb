{
  "nbformat": 4,
  "nbformat_minor": 0,
  "metadata": {
    "colab": {
      "name": "WebScrapping_flipkart_LaptopDetails.ipynb",
      "provenance": [],
      "authorship_tag": "ABX9TyP9ohY4Qktv5OpkqPXEPJ45",
      "include_colab_link": true
    },
    "kernelspec": {
      "name": "python3",
      "display_name": "Python 3"
    },
    "language_info": {
      "name": "python"
    }
  },
  "cells": [
    {
      "cell_type": "markdown",
      "metadata": {
        "id": "view-in-github",
        "colab_type": "text"
      },
      "source": [
        "<a href=\"https://colab.research.google.com/github/kvraagul/Web_Scrapping/blob/main/WebScrapping_flipkart_LaptopDetails.ipynb\" target=\"_parent\"><img src=\"https://colab.research.google.com/assets/colab-badge.svg\" alt=\"Open In Colab\"/></a>"
      ]
    },
    {
      "cell_type": "code",
      "metadata": {
        "id": "5mvt1mdRNFwY"
      },
      "source": [
        "import requests\n",
        "\n",
        "from bs4 import BeautifulSoup\n",
        "\n",
        "import numpy as np\n",
        "import time\n",
        "import pandas as pd"
      ],
      "execution_count": null,
      "outputs": []
    },
    {
      "cell_type": "code",
      "metadata": {
        "id": "wbcxJ7qL4PWz"
      },
      "source": [
        "Laptop_name =[]\n",
        "Laptop_price = []\n",
        "Laptop_rating = []\n",
        "Laptop_specs = []\n",
        "page_num = []\n",
        "\n",
        "\n",
        "for i in range(1,20):\n",
        "  url = f'https://www.flipkart.com/search?q=laptop&otracker=search&otracker1=search&marketplace=FLIPKART&as-show=off&as=off&page={i}'\n",
        "  response = requests.get(url)\n",
        "  page_content = response.text\n",
        "  soup = BeautifulSoup(page_content)\n",
        "\n",
        "  for j in soup.find_all('div',attrs={'class':'_2kHMtA'}):\n",
        "    laptopname = j.find('div',attrs={'class':'_4rR01T'})\n",
        "    laptopprice = j.find('div',attrs={'class':'_30jeq3 _1_WHN1'})\n",
        "    laptoprating = j.find('div',attrs={'class':'_3LWZlK'})\n",
        "    laptopspecs = j.find(\"ul\",attrs={\"class\":\"_1xgFaf\"})\n",
        "\n",
        "    if laptopname is None:\n",
        "      Laptop_name.append(np.NaN)\n",
        "    else:\n",
        "      Laptop_name.append(laptopname.text)\n",
        "\n",
        "    if laptopprice is None:\n",
        "      Laptop_price.append(np.NaN)\n",
        "    else:\n",
        "      Laptop_price.append(laptopprice.text)\n",
        "\n",
        "    if laptoprating is None:\n",
        "      Laptop_rating.append(np.NaN)\n",
        "    else:\n",
        "      Laptop_rating.append(laptoprating.text)\n",
        "\n",
        "    if laptopspecs is None:\n",
        "      Laptop_specs.append(np.NaN)\n",
        "    else:\n",
        "      Laptop_specs.append(laptopspecs.text)\n",
        "\n",
        "\n",
        "    page_num.append(i)\n",
        "\n",
        "time.sleep(1)"
      ],
      "execution_count": null,
      "outputs": []
    },
    {
      "cell_type": "code",
      "metadata": {
        "colab": {
          "base_uri": "https://localhost:8080/"
        },
        "id": "7fNAYOGC4Par",
        "outputId": "6e7235b4-e87b-48aa-a4d5-0a5761266f6b"
      },
      "source": [
        "print(len(Laptop_name))\n",
        "print(len(Laptop_price))\n",
        "print(len(Laptop_rating))\n",
        "print(len(Laptop_specs))\n",
        "print(len(page_num))"
      ],
      "execution_count": null,
      "outputs": [
        {
          "output_type": "stream",
          "text": [
            "456\n",
            "456\n",
            "456\n",
            "456\n",
            "456\n"
          ],
          "name": "stdout"
        }
      ]
    },
    {
      "cell_type": "code",
      "metadata": {
        "id": "3Rw9xLtX4Pdy"
      },
      "source": [
        "data = {\n",
        "    'Laptop_name':Laptop_name,\n",
        "    'Laptop_price':Laptop_price,\n",
        "    'Laptop_rating':Laptop_rating,\n",
        "    'Laptop_specs':Laptop_specs,\n",
        "    'Flipkart_PageNumber':page_num\n",
        "}"
      ],
      "execution_count": null,
      "outputs": []
    },
    {
      "cell_type": "code",
      "metadata": {
        "id": "a6SJ5xH7AzFS"
      },
      "source": [
        "data = pd.DataFrame(data)"
      ],
      "execution_count": null,
      "outputs": []
    },
    {
      "cell_type": "code",
      "metadata": {
        "colab": {
          "base_uri": "https://localhost:8080/",
          "height": 417
        },
        "id": "b0mx92TqAzP7",
        "outputId": "eb8f9d2d-5c5c-462f-e5aa-50de167dd150"
      },
      "source": [
        "data"
      ],
      "execution_count": null,
      "outputs": [
        {
          "output_type": "execute_result",
          "data": {
            "text/html": [
              "<div>\n",
              "<style scoped>\n",
              "    .dataframe tbody tr th:only-of-type {\n",
              "        vertical-align: middle;\n",
              "    }\n",
              "\n",
              "    .dataframe tbody tr th {\n",
              "        vertical-align: top;\n",
              "    }\n",
              "\n",
              "    .dataframe thead th {\n",
              "        text-align: right;\n",
              "    }\n",
              "</style>\n",
              "<table border=\"1\" class=\"dataframe\">\n",
              "  <thead>\n",
              "    <tr style=\"text-align: right;\">\n",
              "      <th></th>\n",
              "      <th>Laptop_name</th>\n",
              "      <th>Laptop_price</th>\n",
              "      <th>Laptop_rating</th>\n",
              "      <th>Laptop_specs</th>\n",
              "      <th>Flipkart_PageNumber</th>\n",
              "    </tr>\n",
              "  </thead>\n",
              "  <tbody>\n",
              "    <tr>\n",
              "      <th>0</th>\n",
              "      <td>HP Pavilion Aero Ryzen 5 Hexa Core 5600U - (16...</td>\n",
              "      <td>₹76,990</td>\n",
              "      <td>4.8</td>\n",
              "      <td>AMD Ryzen 5 Hexa Core Processor16 GB DDR4 RAM6...</td>\n",
              "      <td>1</td>\n",
              "    </tr>\n",
              "    <tr>\n",
              "      <th>1</th>\n",
              "      <td>Lenovo ThinkPad E14 Gen2 Ryzen 5 Hexa Core 465...</td>\n",
              "      <td>₹53,990</td>\n",
              "      <td>4.3</td>\n",
              "      <td>AMD Ryzen 5 Hexa Core Processor (5th Gen)8 GB ...</td>\n",
              "      <td>1</td>\n",
              "    </tr>\n",
              "    <tr>\n",
              "      <th>2</th>\n",
              "      <td>ASUS TUF Gaming F15 Core i5 10th Gen - (8 GB/5...</td>\n",
              "      <td>₹58,990</td>\n",
              "      <td>4.5</td>\n",
              "      <td>Intel Core i5 Processor (10th Gen)8 GB DDR4 RA...</td>\n",
              "      <td>1</td>\n",
              "    </tr>\n",
              "    <tr>\n",
              "      <th>3</th>\n",
              "      <td>ASUS Core i3 10th Gen - (8 GB + 32 GB Optane/5...</td>\n",
              "      <td>₹40,990</td>\n",
              "      <td>4.1</td>\n",
              "      <td>Intel Core i3 Processor (10th Gen)8 GB DDR4 RA...</td>\n",
              "      <td>1</td>\n",
              "    </tr>\n",
              "    <tr>\n",
              "      <th>4</th>\n",
              "      <td>acer Aspire 7 Ryzen 5 Hexa Core 5500U - (8 GB/...</td>\n",
              "      <td>₹56,990</td>\n",
              "      <td>4.5</td>\n",
              "      <td>AMD Ryzen 5 Hexa Core Processor8 GB DDR4 RAM64...</td>\n",
              "      <td>1</td>\n",
              "    </tr>\n",
              "    <tr>\n",
              "      <th>...</th>\n",
              "      <td>...</td>\n",
              "      <td>...</td>\n",
              "      <td>...</td>\n",
              "      <td>...</td>\n",
              "      <td>...</td>\n",
              "    </tr>\n",
              "    <tr>\n",
              "      <th>451</th>\n",
              "      <td>lenovo Ideapad Slim 5i Core i5 11th Gen Intel ...</td>\n",
              "      <td>₹64,990</td>\n",
              "      <td>4.4</td>\n",
              "      <td>Intel Evo platform feat 11th Gen Intel Core i5...</td>\n",
              "      <td>19</td>\n",
              "    </tr>\n",
              "    <tr>\n",
              "      <th>452</th>\n",
              "      <td>Lenovo Ideapad 720S Core i7 8th Gen - (8 GB/51...</td>\n",
              "      <td>₹86,000</td>\n",
              "      <td>NaN</td>\n",
              "      <td>Intel Core i7 Processor (8th Gen)8 GB DDR4 RAM...</td>\n",
              "      <td>19</td>\n",
              "    </tr>\n",
              "    <tr>\n",
              "      <th>453</th>\n",
              "      <td>ASUS ZenBook Classic Core i5 10th Gen - (8 GB/...</td>\n",
              "      <td>₹1,05,990</td>\n",
              "      <td>5</td>\n",
              "      <td>Intel Core i5 Processor (10th Gen)8 GB LPDDR3 ...</td>\n",
              "      <td>19</td>\n",
              "    </tr>\n",
              "    <tr>\n",
              "      <th>454</th>\n",
              "      <td>ASUS VivoBook 15 Athlon Dual Core 3050U - (4 G...</td>\n",
              "      <td>₹29,990</td>\n",
              "      <td>3.8</td>\n",
              "      <td>AMD Athlon Dual Core Processor4 GB DDR4 RAM64 ...</td>\n",
              "      <td>19</td>\n",
              "    </tr>\n",
              "    <tr>\n",
              "      <th>455</th>\n",
              "      <td>Lenovo ThinkPad E15 Core i5 11th Gen - (8 GB/5...</td>\n",
              "      <td>₹73,990</td>\n",
              "      <td>4.6</td>\n",
              "      <td>Intel Core i5 Processor (11th Gen)8 GB DDR4 RA...</td>\n",
              "      <td>19</td>\n",
              "    </tr>\n",
              "  </tbody>\n",
              "</table>\n",
              "<p>456 rows × 5 columns</p>\n",
              "</div>"
            ],
            "text/plain": [
              "                                           Laptop_name  ... Flipkart_PageNumber\n",
              "0    HP Pavilion Aero Ryzen 5 Hexa Core 5600U - (16...  ...                   1\n",
              "1    Lenovo ThinkPad E14 Gen2 Ryzen 5 Hexa Core 465...  ...                   1\n",
              "2    ASUS TUF Gaming F15 Core i5 10th Gen - (8 GB/5...  ...                   1\n",
              "3    ASUS Core i3 10th Gen - (8 GB + 32 GB Optane/5...  ...                   1\n",
              "4    acer Aspire 7 Ryzen 5 Hexa Core 5500U - (8 GB/...  ...                   1\n",
              "..                                                 ...  ...                 ...\n",
              "451  lenovo Ideapad Slim 5i Core i5 11th Gen Intel ...  ...                  19\n",
              "452  Lenovo Ideapad 720S Core i7 8th Gen - (8 GB/51...  ...                  19\n",
              "453  ASUS ZenBook Classic Core i5 10th Gen - (8 GB/...  ...                  19\n",
              "454  ASUS VivoBook 15 Athlon Dual Core 3050U - (4 G...  ...                  19\n",
              "455  Lenovo ThinkPad E15 Core i5 11th Gen - (8 GB/5...  ...                  19\n",
              "\n",
              "[456 rows x 5 columns]"
            ]
          },
          "metadata": {},
          "execution_count": 8
        }
      ]
    },
    {
      "cell_type": "code",
      "metadata": {
        "id": "jQ7uSK6KCnNb"
      },
      "source": [
        "data.to_csv('flipkartlaptopdetails.csv',index=False)"
      ],
      "execution_count": null,
      "outputs": []
    },
    {
      "cell_type": "code",
      "metadata": {
        "colab": {
          "base_uri": "https://localhost:8080/",
          "height": 417
        },
        "id": "eXwURHl6Ezxh",
        "outputId": "35e4e902-eea4-49d8-9fe1-ea16346ef3a3"
      },
      "source": [
        "Data = pd.read_csv('flipkartlaptopdetails.csv')\n",
        "Data"
      ],
      "execution_count": null,
      "outputs": [
        {
          "output_type": "execute_result",
          "data": {
            "text/html": [
              "<div>\n",
              "<style scoped>\n",
              "    .dataframe tbody tr th:only-of-type {\n",
              "        vertical-align: middle;\n",
              "    }\n",
              "\n",
              "    .dataframe tbody tr th {\n",
              "        vertical-align: top;\n",
              "    }\n",
              "\n",
              "    .dataframe thead th {\n",
              "        text-align: right;\n",
              "    }\n",
              "</style>\n",
              "<table border=\"1\" class=\"dataframe\">\n",
              "  <thead>\n",
              "    <tr style=\"text-align: right;\">\n",
              "      <th></th>\n",
              "      <th>Laptop_name</th>\n",
              "      <th>Laptop_price</th>\n",
              "      <th>Laptop_rating</th>\n",
              "      <th>Laptop_specs</th>\n",
              "      <th>Flipkart_PageNumber</th>\n",
              "    </tr>\n",
              "  </thead>\n",
              "  <tbody>\n",
              "    <tr>\n",
              "      <th>0</th>\n",
              "      <td>HP Pavilion Aero Ryzen 5 Hexa Core 5600U - (16...</td>\n",
              "      <td>₹76,990</td>\n",
              "      <td>4.8</td>\n",
              "      <td>AMD Ryzen 5 Hexa Core Processor16 GB DDR4 RAM6...</td>\n",
              "      <td>1</td>\n",
              "    </tr>\n",
              "    <tr>\n",
              "      <th>1</th>\n",
              "      <td>Lenovo ThinkPad E14 Gen2 Ryzen 5 Hexa Core 465...</td>\n",
              "      <td>₹53,990</td>\n",
              "      <td>4.3</td>\n",
              "      <td>AMD Ryzen 5 Hexa Core Processor (5th Gen)8 GB ...</td>\n",
              "      <td>1</td>\n",
              "    </tr>\n",
              "    <tr>\n",
              "      <th>2</th>\n",
              "      <td>ASUS TUF Gaming F15 Core i5 10th Gen - (8 GB/5...</td>\n",
              "      <td>₹58,990</td>\n",
              "      <td>4.5</td>\n",
              "      <td>Intel Core i5 Processor (10th Gen)8 GB DDR4 RA...</td>\n",
              "      <td>1</td>\n",
              "    </tr>\n",
              "    <tr>\n",
              "      <th>3</th>\n",
              "      <td>ASUS Core i3 10th Gen - (8 GB + 32 GB Optane/5...</td>\n",
              "      <td>₹40,990</td>\n",
              "      <td>4.1</td>\n",
              "      <td>Intel Core i3 Processor (10th Gen)8 GB DDR4 RA...</td>\n",
              "      <td>1</td>\n",
              "    </tr>\n",
              "    <tr>\n",
              "      <th>4</th>\n",
              "      <td>acer Aspire 7 Ryzen 5 Hexa Core 5500U - (8 GB/...</td>\n",
              "      <td>₹56,990</td>\n",
              "      <td>4.5</td>\n",
              "      <td>AMD Ryzen 5 Hexa Core Processor8 GB DDR4 RAM64...</td>\n",
              "      <td>1</td>\n",
              "    </tr>\n",
              "    <tr>\n",
              "      <th>...</th>\n",
              "      <td>...</td>\n",
              "      <td>...</td>\n",
              "      <td>...</td>\n",
              "      <td>...</td>\n",
              "      <td>...</td>\n",
              "    </tr>\n",
              "    <tr>\n",
              "      <th>451</th>\n",
              "      <td>lenovo Ideapad Slim 5i Core i5 11th Gen Intel ...</td>\n",
              "      <td>₹64,990</td>\n",
              "      <td>4.4</td>\n",
              "      <td>Intel Evo platform feat 11th Gen Intel Core i5...</td>\n",
              "      <td>19</td>\n",
              "    </tr>\n",
              "    <tr>\n",
              "      <th>452</th>\n",
              "      <td>Lenovo Ideapad 720S Core i7 8th Gen - (8 GB/51...</td>\n",
              "      <td>₹86,000</td>\n",
              "      <td>NaN</td>\n",
              "      <td>Intel Core i7 Processor (8th Gen)8 GB DDR4 RAM...</td>\n",
              "      <td>19</td>\n",
              "    </tr>\n",
              "    <tr>\n",
              "      <th>453</th>\n",
              "      <td>ASUS ZenBook Classic Core i5 10th Gen - (8 GB/...</td>\n",
              "      <td>₹1,05,990</td>\n",
              "      <td>5.0</td>\n",
              "      <td>Intel Core i5 Processor (10th Gen)8 GB LPDDR3 ...</td>\n",
              "      <td>19</td>\n",
              "    </tr>\n",
              "    <tr>\n",
              "      <th>454</th>\n",
              "      <td>ASUS VivoBook 15 Athlon Dual Core 3050U - (4 G...</td>\n",
              "      <td>₹29,990</td>\n",
              "      <td>3.8</td>\n",
              "      <td>AMD Athlon Dual Core Processor4 GB DDR4 RAM64 ...</td>\n",
              "      <td>19</td>\n",
              "    </tr>\n",
              "    <tr>\n",
              "      <th>455</th>\n",
              "      <td>Lenovo ThinkPad E15 Core i5 11th Gen - (8 GB/5...</td>\n",
              "      <td>₹73,990</td>\n",
              "      <td>4.6</td>\n",
              "      <td>Intel Core i5 Processor (11th Gen)8 GB DDR4 RA...</td>\n",
              "      <td>19</td>\n",
              "    </tr>\n",
              "  </tbody>\n",
              "</table>\n",
              "<p>456 rows × 5 columns</p>\n",
              "</div>"
            ],
            "text/plain": [
              "                                           Laptop_name  ... Flipkart_PageNumber\n",
              "0    HP Pavilion Aero Ryzen 5 Hexa Core 5600U - (16...  ...                   1\n",
              "1    Lenovo ThinkPad E14 Gen2 Ryzen 5 Hexa Core 465...  ...                   1\n",
              "2    ASUS TUF Gaming F15 Core i5 10th Gen - (8 GB/5...  ...                   1\n",
              "3    ASUS Core i3 10th Gen - (8 GB + 32 GB Optane/5...  ...                   1\n",
              "4    acer Aspire 7 Ryzen 5 Hexa Core 5500U - (8 GB/...  ...                   1\n",
              "..                                                 ...  ...                 ...\n",
              "451  lenovo Ideapad Slim 5i Core i5 11th Gen Intel ...  ...                  19\n",
              "452  Lenovo Ideapad 720S Core i7 8th Gen - (8 GB/51...  ...                  19\n",
              "453  ASUS ZenBook Classic Core i5 10th Gen - (8 GB/...  ...                  19\n",
              "454  ASUS VivoBook 15 Athlon Dual Core 3050U - (4 G...  ...                  19\n",
              "455  Lenovo ThinkPad E15 Core i5 11th Gen - (8 GB/5...  ...                  19\n",
              "\n",
              "[456 rows x 5 columns]"
            ]
          },
          "metadata": {},
          "execution_count": 10
        }
      ]
    }
  ]
}